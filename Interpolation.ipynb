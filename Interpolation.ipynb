{
 "metadata": {
  "name": ""
 },
 "nbformat": 3,
 "nbformat_minor": 0,
 "worksheets": [
  {
   "cells": [
    {
     "cell_type": "code",
     "collapsed": false,
     "input": [
      "from scipy.interpolate import interp1d\n",
      "import numpy as np"
     ],
     "language": "python",
     "metadata": {},
     "outputs": [],
     "prompt_number": 4
    },
    {
     "cell_type": "code",
     "collapsed": false,
     "input": [
      "x = np.linspace(0, 10, 10)\n",
      "y = np.cos(-x**2/8.0)\n",
      "f = interp1d(x, y)\n",
      "f2 = interp1d(x, y, kind='cubic')"
     ],
     "language": "python",
     "metadata": {},
     "outputs": [],
     "prompt_number": 5
    },
    {
     "cell_type": "code",
     "collapsed": false,
     "input": [
      "xnew = np.linspace(0, 10, 40)\n",
      "import matplotlib.pyplot as plt\n",
      "plt.plot(x,y,'o',xnew,f(xnew),'-', xnew, f2(xnew),'--')\n",
      "plt.legend(['data', 'linear', 'cubic'], loc='best')\n",
      "plt.show()\n",
      "## Run this block for a nifty graph"
     ],
     "language": "python",
     "metadata": {},
     "outputs": [],
     "prompt_number": 7
    },
    {
     "cell_type": "code",
     "collapsed": false,
     "input": [
      "import csv\n",
      "infile = './Data_for_Dan.csv'\n",
      "set0, setA, setB = [], [], []\n",
      "with open(infile, 'rb') as csvfile:\n",
      "    csvreader = csv.reader(csvfile)\n",
      "    for row in csvreader:\n",
      "        if len(row) >= 2:\n",
      "            set0.append(row[0])\n",
      "            setA.append(row[1])\n",
      "            setB.append(row[2])\n",
      "    print len(set0), len(setA), len(setB)\n",
      "for v in (0, 1, 2):\n",
      "    print set0[v], setA[v], setB[v]\n",
      "    "
     ],
     "language": "python",
     "metadata": {},
     "outputs": [
      {
       "output_type": "stream",
       "stream": "stdout",
       "text": [
        "22565 22565 22565\n",
        "Time FPT Velocity ft/sec WGA Velocity ft/sec\n",
        "8/30/2013 15:45 1.35 1.25\n",
        "8/30/2013 16:00 1.36 1.30\n"
       ]
      }
     ],
     "prompt_number": 58
    },
    {
     "cell_type": "code",
     "collapsed": false,
     "input": [],
     "language": "python",
     "metadata": {},
     "outputs": []
    }
   ],
   "metadata": {}
  }
 ]
}