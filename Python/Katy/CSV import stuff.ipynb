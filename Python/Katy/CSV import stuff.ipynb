{
 "metadata": {
  "name": "",
  "signature": "sha256:0e54e79b47ba83e12a2ecd44ca7bc0e19f4cf31f0c55043896b54a685eb7dbc8"
 },
 "nbformat": 3,
 "nbformat_minor": 0,
 "worksheets": [
  {
   "cells": [
    {
     "cell_type": "code",
     "collapsed": false,
     "input": [
      "!ls"
     ],
     "language": "python",
     "metadata": {},
     "outputs": [
      {
       "output_type": "stream",
       "stream": "stdout",
       "text": [
        "Untitled0.ipynb testdata.csv\r\n"
       ]
      }
     ],
     "prompt_number": 21
    },
    {
     "cell_type": "heading",
     "level": 1,
     "metadata": {},
     "source": [
      "comments here blah\n",
      "\n"
     ]
    },
    {
     "cell_type": "code",
     "collapsed": false,
     "input": [],
     "language": "python",
     "metadata": {},
     "outputs": [],
     "prompt_number": 21
    },
    {
     "cell_type": "code",
     "collapsed": false,
     "input": [
      "import csv\n",
      "print \"The name of my file is:\", myfile\n",
      "mydata = []\n",
      "\n",
      "for line in csv.reader(open('testdata.csv', 'rU')):\n",
      "    mydata.append(line)\n",
      "\n",
      "#for line in mydata:\n",
      "#    print \"This is a line from the csv file:\", line"
     ],
     "language": "python",
     "metadata": {},
     "outputs": [
      {
       "output_type": "stream",
       "stream": "stdout",
       "text": [
        "The name of my file is: testdata.csv\n"
       ]
      }
     ],
     "prompt_number": 65
    },
    {
     "cell_type": "raw",
     "metadata": {},
     "source": [
      "print mydata[0:3]\n",
      "print \"\"\n",
      "print mydata[1]\n",
      "print \"\"\n",
      "print mydata[1][2]\n"
     ]
    },
    {
     "cell_type": "raw",
     "metadata": {},
     "source": [
      "total = 0\n",
      "for row in range(1, 10):\n",
      "    print row\n",
      "    print mydata[row]\n",
      "    print mydata[row][2],        mydata[row][2].__class__\n",
      "    print float(mydata[row][2]), float(mydata[row][2]).__class__\n",
      "    print \"\"\n",
      "    print (mydata[row][2], float(mydata[row][2]), int(float(mydata[row][2])))\n",
      "    print \"\"\n"
     ]
    },
    {
     "cell_type": "raw",
     "metadata": {},
     "source": [
      "total = 0\n",
      "for row in range(1, 10):\n",
      "    print row\n",
      "    md_row = mydata[row]\n",
      "    print md_row\n",
      "    md_r_val = md_row[2]\n",
      "    print (md_r_val, float(md_r_val), int(float(md_r_val)))\n",
      "    print \"\"\n",
      "    "
     ]
    },
    {
     "cell_type": "code",
     "collapsed": false,
     "input": [
      "total = 0\n",
      "for row_num in range(1, 9):\n",
      "    value = float(mydata[row_num][2])\n",
      "    total = total + value\n",
      "    print row_num, value, total\n",
      "print \"Grand total:\", total"
     ],
     "language": "python",
     "metadata": {},
     "outputs": [
      {
       "output_type": "stream",
       "stream": "stdout",
       "text": [
        "1 1.25 1.25\n",
        "2 1.3 2.55\n",
        "3 1.35 3.9\n",
        "4 1.38 5.28\n",
        "5 1.4 6.68\n",
        "6 1.43 8.11\n",
        "7 1.45 9.56\n",
        "8 1.47 11.03\n",
        "Grand total: 11.03\n"
       ]
      }
     ],
     "prompt_number": 86
    },
    {
     "cell_type": "code",
     "collapsed": false,
     "input": [
      "import numpy as np\n",
      "values = [float(row[2]) for row in mydata[1:9]]\n",
      "print values\n",
      "print sum(values)\n",
      "print   np.mean(values), \\\n",
      "        np.median(values), \\\n",
      "        np.max(values), \\\n",
      "        np.min(values), \\\n",
      "        np.round(np.std(values), 3)\n"
     ],
     "language": "python",
     "metadata": {},
     "outputs": [
      {
       "output_type": "stream",
       "stream": "stdout",
       "text": [
        "[1.25, 1.3, 1.35, 1.38, 1.4, 1.43, 1.45, 1.47]\n",
        "11.03\n",
        "1.37875 1.39 1.47 1.25 0.071\n"
       ]
      }
     ],
     "prompt_number": 105
    },
    {
     "cell_type": "markdown",
     "metadata": {},
     "source": [
      "1. Figure out how to read in xlsx files\n",
      "2. figure out how to scan for xlsx files\n",
      "3. figure out how to do things to multiple files iteratively once we have a list of files\n",
      "4. summarize data in single file? "
     ]
    },
    {
     "cell_type": "code",
     "collapsed": false,
     "input": [
      "words = [\"dog\", \"cat\", \"doge\", \"cow\", \"moose\", \"caribou\"]\n",
      "for word in words:\n",
      "    if \"ow\" in word:\n",
      "        print word"
     ],
     "language": "python",
     "metadata": {},
     "outputs": [
      {
       "output_type": "stream",
       "stream": "stdout",
       "text": [
        "cow\n"
       ]
      }
     ],
     "prompt_number": 107
    },
    {
     "cell_type": "code",
     "collapsed": false,
     "input": [
      "first_file = files[0]"
     ],
     "language": "python",
     "metadata": {},
     "outputs": [],
     "prompt_number": 108
    },
    {
     "cell_type": "code",
     "collapsed": false,
     "input": [
      "all_files = !find .\n",
      "files = [f for f in all_files if \".xlsx\" in f]\n",
      "print files, \"\\n\"\n",
      "the_file = files[0]\n",
      "print \"The File:\", the_file"
     ],
     "language": "python",
     "metadata": {},
     "outputs": [
      {
       "output_type": "stream",
       "stream": "stdout",
       "text": [
        "['./example_work_docs/omabs_2014-01-03_blahblah.xlsx', './example_work_docs/omabs_2014-01-24_blahblah.xlsx', './example_work_docs/omabs_2014-03-10_blahblah.xlsx'] \n",
        "\n",
        "The File: ./example_work_docs/omabs_2014-01-03_blahblah.xlsx\n"
       ]
      }
     ],
     "prompt_number": 113
    },
    {
     "cell_type": "code",
     "collapsed": false,
     "input": [
      "from pyexcel_xlsx import XLSXBook\n",
      "book = XLSXBook(the_file)\n",
      "print book.sheets().keys()\n",
      "sheet = book.sheets()['Sheet1']\n",
      "values = []\n",
      "for row in sheet[1:]:\n",
      "    values.append(row[2])\n",
      "\n",
      "print values\n",
      "print sum(values)"
     ],
     "language": "python",
     "metadata": {},
     "outputs": [
      {
       "output_type": "stream",
       "stream": "stdout",
       "text": [
        "['Sheet1']\n",
        "[0.0002, 0.002, 2e-06, 0.000536000000000001, 0.000437000000000001, 0.000338000000000001, 0.000239000000000002, 0.000140000000000002, 4.10000000000018e-05]\n",
        "0.003933\n"
       ]
      }
     ],
     "prompt_number": 136
    },
    {
     "cell_type": "code",
     "collapsed": false,
     "input": [
      "blah = {'first': (1, 2, 3), 4: (4, 5, 6), 'third': (7, 8, 9)}\n",
      "print blah.keys()\n",
      "print blah['first']\n",
      "print blah.values()"
     ],
     "language": "python",
     "metadata": {},
     "outputs": [
      {
       "output_type": "stream",
       "stream": "stdout",
       "text": [
        "[4, 'third', 'first']\n",
        "(1, 2, 3)\n",
        "[(4, 5, 6), (7, 8, 9), (1, 2, 3)]\n"
       ]
      }
     ],
     "prompt_number": 131
    },
    {
     "cell_type": "code",
     "collapsed": false,
     "input": [],
     "language": "python",
     "metadata": {},
     "outputs": []
    }
   ],
   "metadata": {}
  }
 ]
}