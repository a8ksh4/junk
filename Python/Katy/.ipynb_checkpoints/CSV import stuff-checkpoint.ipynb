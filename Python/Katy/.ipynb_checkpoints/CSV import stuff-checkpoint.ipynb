{
 "metadata": {
  "name": "",
  "signature": "sha256:7526b4cab135fa687459c2af114751f4c859b20dd082190960bee5ef7b936c41"
 },
 "nbformat": 3,
 "nbformat_minor": 0,
 "worksheets": []
}