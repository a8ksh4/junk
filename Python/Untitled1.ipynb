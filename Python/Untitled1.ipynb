{
 "metadata": {
  "name": "",
  "signature": "sha256:ed5eb38c46fe19d477765760f59bcc0c0cc31ea558acdda30830ce56f887d03d"
 },
 "nbformat": 3,
 "nbformat_minor": 0,
 "worksheets": [
  {
   "cells": [
    {
     "cell_type": "code",
     "collapsed": false,
     "input": [
      "class Node(object):\n",
      "    def __init__():\n",
      "        pass\n",
      "    def rcv()\n",
      "    \n"
     ],
     "language": "python",
     "metadata": {},
     "outputs": [
      {
       "metadata": {},
       "output_type": "pyout",
       "prompt_number": 1,
       "text": [
        "u'C:\\\\Users\\\\drnorris\\\\git\\\\junk'"
       ]
      }
     ],
     "prompt_number": 1
    }
   ],
   "metadata": {}
  }
 ]
}