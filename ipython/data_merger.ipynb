{
 "cells": [
  {
   "cell_type": "code",
   "execution_count": 10,
   "metadata": {
    "collapsed": false
   },
   "outputs": [
    {
     "name": "stdout",
     "output_type": "stream",
     "text": [
      "['Port1.042', 'Port1.043', 'Port2.042', 'Port2.043', 'Port3.042', 'Port3.043']\n"
     ]
    }
   ],
   "source": [
    "import os\n",
    "\n",
    "path_to_files = './data_merger_0'\n",
    "file_name_filter = 'Port'\n",
    "file_names = os.listdir(path_to_files)\n",
    "file_names = [f for f in files if file_name_filter in f]\n",
    "print file_names"
   ]
  },
  {
   "cell_type": "code",
   "execution_count": 11,
   "metadata": {
    "collapsed": false
   },
   "outputs": [
    {
     "name": "stdout",
     "output_type": "stream",
     "text": [
      "['Port1', 'Port2', 'Port3']\n"
     ]
    }
   ],
   "source": [
    "port_names = sorted(set([f.split('.')[0] for f in files]))\n",
    "print port_names"
   ]
  },
  {
   "cell_type": "code",
   "execution_count": 14,
   "metadata": {
    "collapsed": true
   },
   "outputs": [],
   "source": [
    "def read_file_data(f_path, f_name):\n",
    "    out = []\n",
    "    with open(f_path + '/' + f_name, 'r') as f:\n",
    "        for line in f.readlines():\n",
    "            if not line:\n",
    "                continue\n",
    "            line = line.split(',')\n",
    "            out.append(line)\n",
    "    return out"
   ]
  },
  {
   "cell_type": "code",
   "execution_count": 16,
   "metadata": {
    "collapsed": false
   },
   "outputs": [
    {
     "name": "stdout",
     "output_type": "stream",
     "text": [
      "Port2.042 6064\n",
      "Port2.043 6138\n",
      "Port3.043 4809\n",
      "Port3.042 4683\n",
      "Port1.043 6127\n",
      "Port1.042 6011\n"
     ]
    }
   ],
   "source": [
    "all_data = {}\n",
    "for file_name in file_names:\n",
    "    all_data[file_name] = read_file_data(path_to_files, file_name)\n",
    "\n",
    "for key, data in all_data.items():\n",
    "    print key, len(data)"
   ]
  },
  {
   "cell_type": "code",
   "execution_count": null,
   "metadata": {
    "collapsed": true
   },
   "outputs": [],
   "source": []
  }
 ],
 "metadata": {
  "kernelspec": {
   "display_name": "Python 2",
   "language": "python",
   "name": "python2"
  },
  "language_info": {
   "codemirror_mode": {
    "name": "ipython",
    "version": 2
   },
   "file_extension": ".py",
   "mimetype": "text/x-python",
   "name": "python",
   "nbconvert_exporter": "python",
   "pygments_lexer": "ipython2",
   "version": "2.7.13"
  }
 },
 "nbformat": 4,
 "nbformat_minor": 2
}
